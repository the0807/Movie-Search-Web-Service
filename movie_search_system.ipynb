{
 "cells": [
  {
   "cell_type": "markdown",
   "id": "d78b623e-c9f1-41f3-b3a7-a39d3576bfcf",
   "metadata": {
    "tags": []
   },
   "source": [
    "######\n",
    "## • 동기 및 배경\n",
    "#### ChatGPT는 2021년도까지의 데이터들만 학습이 되어 있어 최신 영화에 대한 정보를 알 수 없다.\n",
    "#### LangChain의 Templete과 Tool 기능을 사용해 ChatGPT의 최신 정보 접근에 대한 한계를 보완하고 영화의 평점과 요약을 받아오는 것이 목적이다.\n",
    "#### 본 시스템은 TMDB의 API를 사용해 전세계의 영화 정보를 받아올 수 있으며 고전 영화부터 최근의 영화까지 평점과 간단한 줄거리를 알고 싶을 때 사용할 수 있다."
   ]
  },
  {
   "cell_type": "markdown",
   "id": "0a357fa4-3810-4e66-a72c-9471b5f4f7ca",
   "metadata": {
    "tags": []
   },
   "source": [
    "######\n",
    "## • 기능 설명\n",
    "#### 1. 웹을 통해 영화 검색 기능을 사용할 수 있다.\n",
    "#### 2. 사용자가 영화의 제목을 입력하면 시스템은 TMDB API를 이용해 DB에 접근한 후 입력된 영화의 정보를 받아온다.\n",
    "#### 3. 시스템은 받아온 영화의 정보 중 vote_average와 overview부분을 요약해 사용자에게 알려준다."
   ]
  },
  {
   "cell_type": "markdown",
   "id": "6a62ab4b-9358-4ba4-ad81-5f0b707abad9",
   "metadata": {},
   "source": [
    "######\n",
    "## • 웹에서 사용한 코드"
   ]
  },
  {
   "cell_type": "code",
   "execution_count": null,
   "id": "a9131146-b5b3-440c-a9f6-fd55a2d391fc",
   "metadata": {},
   "outputs": [],
   "source": [
    "#!pip install openai\n",
    "#!pip install langchain\n",
    "#!pip install tiktoken\n",
    "\n",
    "import os\n",
    "import sys\n",
    "from langchain.chains.api.prompt import API_RESPONSE_PROMPT\n",
    "from langchain.chains import APIChain\n",
    "from langchain.prompts.prompt import PromptTemplate\n",
    "from langchain.prompts import PromptTemplate\n",
    "from langchain.llms import OpenAI\n",
    "from langchain.chains.api import tmdb_docs\n",
    "from langchain.chains import LLMChain\n",
    "\n",
    "def call(movie_name):\n",
    "    \n",
    "    os.environ[\"OPENAI_API_KEY\"] = \"OPENAI_API_KEY\"\n",
    "    os.environ[\"TMDB_BEARER_TOKEN\"] = \"TMDB_BEARER_TOKEN\"\n",
    "\n",
    "    llm = OpenAI(temperature=0, max_tokens = -1)\n",
    "    \n",
    "    try:\n",
    "        prompt = PromptTemplate(\n",
    "            input_variables=[\"movie\"],\n",
    "            template=\"{movie}의 평점과 overview를 한글로 요약해서 알려줘\",\n",
    "        )\n",
    "\n",
    "        chain = LLMChain(llm=llm, prompt=prompt)\n",
    "        movie_prompt = prompt.format(movie=movie_name)\n",
    "\n",
    "        headers = {\"Authorization\": f\"Bearer {os.environ['TMDB_BEARER_TOKEN']}\"}\n",
    "        chain = APIChain.from_llm_and_api_docs(llm, tmdb_docs.TMDB_DOCS, headers=headers, verbose=False)\n",
    "        output = chain.run(movie_prompt)\n",
    "        #print(\">>\", end='')\n",
    "        print(output)\n",
    "\n",
    "    except:\n",
    "        print(\"토큰을 모두 사용하여 요약이 불가능합니다.\")\n",
    "\n",
    "call(sys.argv[1])\n"
   ]
  },
  {
   "cell_type": "markdown",
   "id": "379f4a26-b7e1-4cfc-8fb8-721a5144122b",
   "metadata": {},
   "source": [
    "######\n",
    "## • 주피터에서 실행되도록 변경한 코드"
   ]
  },
  {
   "cell_type": "code",
   "execution_count": 115,
   "id": "41444d73-e924-42b9-af10-151cb77a27a4",
   "metadata": {},
   "outputs": [
    {
     "name": "stdout",
     "output_type": "stream",
     "text": [
      "안녕하세요!\n",
      "저는 영화의 평점과 요약을 알려주는 시스템입니다.\n",
      "\n"
     ]
    },
    {
     "name": "stdout",
     "output_type": "stream",
     "text": [
      "영화 제목을 입력하세요:  존윅4\n"
     ]
    },
    {
     "name": "stdout",
     "output_type": "stream",
     "text": [
      "\n",
      ">> 존 윅 4의 평점은 7.987이고, 줄거리는 죽을 위기에서 살아난 존 윅이 최고 회의를 쓰러트릴 방법을 찾아내고, 빌런 그라몽 후작과 전 세계의 최강 연합이 존 윅의 오랜 친구까지 적으로 만들어 버리고, 새로운 위기에 놓인 존 윅이 최후의 반격을 준비하는데... 라는 내용이다.\n"
     ]
    }
   ],
   "source": [
    "#!pip install openai\n",
    "#!pip install langchain\n",
    "#!pip install tiktoken\n",
    "\n",
    "import os\n",
    "from langchain.chains.api.prompt import API_RESPONSE_PROMPT\n",
    "from langchain.chains import APIChain\n",
    "from langchain.prompts.prompt import PromptTemplate\n",
    "from langchain.prompts import PromptTemplate\n",
    "from langchain.llms import OpenAI\n",
    "from langchain.chains.api import tmdb_docs\n",
    "from langchain.chains import LLMChain\n",
    "\n",
    "os.environ[\"OPENAI_API_KEY\"] = \"OPENAI_API_KEY\"\n",
    "os.environ[\"TMDB_BEARER_TOKEN\"] = \"TMDB_BEARER_TOKEN\"\n",
    "\n",
    "llm = OpenAI(temperature=0, max_tokens = -1)\n",
    "\n",
    "print(\"안녕하세요!\")\n",
    "print(\"저는 영화의 평점과 요약을 알려주는 시스템입니다.\\n\")\n",
    "movie_name = input(\"영화 제목을 입력하세요: \")\n",
    "print(\"\")\n",
    "\n",
    "try:\n",
    "    prompt = PromptTemplate(\n",
    "        input_variables=[\"movie\"],\n",
    "        template=\"{movie}의 평점과 overview를 한글로 요약해서 알려줘\",\n",
    "    )\n",
    "\n",
    "    chain = LLMChain(llm=llm, prompt=prompt)\n",
    "    movie_prompt = prompt.format(movie=movie_name)\n",
    "\n",
    "    headers = {\"Authorization\": f\"Bearer {os.environ['TMDB_BEARER_TOKEN']}\"}\n",
    "    chain = APIChain.from_llm_and_api_docs(llm, tmdb_docs.TMDB_DOCS, headers=headers, verbose=False)\n",
    "    output = chain.run(movie_prompt)\n",
    "    print(\">>\", end='')\n",
    "    print(output)\n",
    "    \n",
    "except:\n",
    "    print(\"\\n토큰을 모두 사용하여 요약이 불가능합니다.\")"
   ]
  },
  {
   "cell_type": "code",
   "execution_count": null,
   "id": "fdfcbc70-8439-4549-9502-6ceeda7c67b5",
   "metadata": {},
   "outputs": [],
   "source": []
  }
 ],
 "metadata": {
  "kernelspec": {
   "display_name": "Python 3 (ipykernel)",
   "language": "python",
   "name": "python3"
  },
  "language_info": {
   "codemirror_mode": {
    "name": "ipython",
    "version": 3
   },
   "file_extension": ".py",
   "mimetype": "text/x-python",
   "name": "python",
   "nbconvert_exporter": "python",
   "pygments_lexer": "ipython3",
   "version": "3.9.13"
  }
 },
 "nbformat": 4,
 "nbformat_minor": 5
}
